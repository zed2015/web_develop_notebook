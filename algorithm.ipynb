{
 "cells": [
  {
   "cell_type": "markdown",
   "metadata": {},
   "source": [
    "##  asdf"
   ]
  },
  {
   "cell_type": "code",
   "execution_count": 13,
   "metadata": {},
   "outputs": [
    {
     "name": "stdout",
     "output_type": "stream",
     "text": [
      "[0, 1, 2, 3, 4, 5, 6, 7, 8, 9]\n"
     ]
    }
   ],
   "source": [
    "import random\n",
    "sorted_li = list(range(10))\n",
    "random.shuffle(sorted_li)\n",
    "\n",
    "def buble_sorted(li):\n",
    "    li_len = len(li)\n",
    "    for i in range(li_len-1):\n",
    "        count = 0\n",
    "        for j in range(li_len-1-i):\n",
    "            if li[j] > li[j+1]:\n",
    "                li[j], li[j+1] = li[j+1], li[j]\n",
    "                count += 1\n",
    "        if count == 0:\n",
    "            break\n",
    "    return li\n",
    "\n",
    "ret = buble_sorted(sorted_li)\n",
    "print(ret)\n",
    "assert  ret == list(range(10)), '排序错误'\n"
   ]
  },
  {
   "cell_type": "code",
   "execution_count": 36,
   "metadata": {},
   "outputs": [
    {
     "name": "stdout",
     "output_type": "stream",
     "text": [
      "[0, 1, 2, 3, 4, 5, 6, 7, 8, 9]\n"
     ]
    }
   ],
   "source": [
    "random.shuffle(sorted_li)\n",
    "\n",
    "def quick_sort(array, left, right):\n",
    "    if left >= right:\n",
    "        return\n",
    "    low = left\n",
    "    high = right\n",
    "    key = array[low]\n",
    "    while left < right:\n",
    "        while left < right and array[right] > key:\n",
    "            right -= 1\n",
    "        array[left] = array[right]\n",
    "        while left < right and array[left] <= key:\n",
    "            left += 1\n",
    "        array[right] = array[left]\n",
    "    array[right] = key\n",
    "    quick_sort(array, low, left - 1)\n",
    "    quick_sort(array, left + 1, high)\n",
    "\n",
    "ret = quick_sort(sorted_li, 0, len(sorted_li)-1)\n",
    "print(sorted_li)\n",
    "assert  sorted_li == list(range(10)), '排序错误'"
   ]
  },
  {
   "cell_type": "code",
   "execution_count": 31,
   "metadata": {},
   "outputs": [
    {
     "name": "stdout",
     "output_type": "stream",
     "text": [
      "[6, 5, 2, 9, 4, 1, 0, 7, 8, 3]\n",
      "[0, 1, 2, 3, 4, 5, 6, 7, 8, 9]\n"
     ]
    }
   ],
   "source": [
    "random.shuffle(sorted_li)\n",
    "print(sorted_li)\n",
    "\n",
    "def quick_sort(array, left, right):\n",
    "    if left < right:\n",
    "        q = partition(array, left, right)\n",
    "        quick_sort(array, left, q-1)\n",
    "        quick_sort(array, q+1, right)\n",
    "\n",
    "def partition(array, left, right):\n",
    "    x = array[right]\n",
    "    i = left -1 \n",
    "    for j in range(left, right):\n",
    "        if array[j] < x:\n",
    "            i += 1\n",
    "            array[j], array[i] = array[i] ,array[j]\n",
    "    array[i+1], array[right] = array[right], array[i+1]\n",
    "    return i+1\n",
    "\n",
    "\n",
    "    \n",
    "\n",
    "\n",
    "\n",
    "ret = quick_sort(sorted_li, 0, len(sorted_li)-1)\n",
    "print(sorted_li)\n",
    "ret = sorted_li\n",
    "assert  ret == list(range(10)), '排序错误'"
   ]
  },
  {
   "cell_type": "code",
   "execution_count": 38,
   "metadata": {},
   "outputs": [],
   "source": [
    "random.shuffle(sorted_li)\n",
    "def heap_sort(ary) :\n",
    "    n = len(ary)\n",
    "    first = int(n/2-1)       #最后一个非叶子节点\n",
    "    for start in range(first,-1,-1) :     #构造大根堆\n",
    "        max_heapify(ary,start,n-1)\n",
    "    for end in range(n-1,0,-1):           #堆排，将大根堆转换成有序数组\n",
    "        ary[end],ary[0] = ary[0],ary[end]\n",
    "        max_heapify(ary,0,end-1)\n",
    "    return ary\n",
    "\n",
    "  \n",
    "#最大堆调整：将堆的末端子节点作调整，使得子节点永远小于父节点\n",
    "#start为当前需要调整最大堆的位置，end为调整边界\n",
    "def max_heapify(ary,start,end):\n",
    "    root = start\n",
    "    while True :\n",
    "        child = root*2 +1               #调整节点的子节点\n",
    "        if child > end : break\n",
    "        if child+1 <= end and ary[child] < ary[child+1] :\n",
    "            child = child+1             #取较大的子节点\n",
    "        if ary[root] < ary[child] :     #较大的子节点成为父节点\n",
    "            ary[root],ary[child] = ary[child],ary[root]     #交换\n",
    "            root = child\n",
    "        else :\n",
    "            break\n",
    "\n",
    "heap_sort(sorted_li)\n",
    "assert  sorted_li == list(range(10)), '排序错误'"
   ]
  },
  {
   "cell_type": "markdown",
   "metadata": {},
   "source": [
    "### 二叉树\n"
   ]
  },
  {
   "attachments": {
    "image.png": {
     "image/png": "[encoded data removed]"
    }
   },
   "cell_type": "markdown",
   "metadata": {},
   "source": [
    "- 性质1：二叉树第i层上的结点数目最多为2i-1(i>=1)\n",
    "\n",
    "- 性质2：深度为k的二叉树至多有2k-1个结点（k>=1）\n",
    "\n",
    "- 性质3：包含n个结点的二叉树的高度至少为(log2n)+1\n",
    "\n",
    "- 性质4：在任意一棵二叉树中，若终端结点的个数为n0，度为2的结点数为n2，则n0=n2+1\n",
    "\n",
    "- 等比数列求和公式： 2^n-1 ![image.png](attachment:image.png)\n",
    "\n",
    "- 总结规律：如果一棵完全二叉树的结点总数为n，那么叶子结点等于n/2（当n为偶数时）或者(n+1)/2（当n为奇数时）\n",
    "\n",
    "#### 二叉查找树种：\n",
    "\n",
    "（1）若任意结点的左子树不空，则左子树上所有结点的值均小于它的根结点的值。\n",
    "\n",
    "（2）任意结点的右子树不空，则右子树上所有结点的值均大于它的根结点的值。\n",
    "\n",
    "（3）任意结点的左、右子树也分别为二叉查找树。\n",
    "\n",
    "（4）没有键值相等的结点。\n",
    "#### 广度优先， 深度优先\n",
    "- 广度优先（层次）\n",
    "    - 一层一层往下遍历\n",
    "    - 需要一个队列\n",
    "    - 占用内存大，效率快\n",
    "    - 广度遍历能获取深度\n",
    "- 深度优先\n",
    "    - 先中后序\n",
    "    - 占用内存小， 效率慢\n",
    "    - 回溯法\n"
   ]
  },
  {
   "cell_type": "code",
   "execution_count": 40,
   "metadata": {},
   "outputs": [
    {
     "ename": "IndentationError",
     "evalue": "unexpected indent (<ipython-input-40-8419cd714b9d>, line 10)",
     "output_type": "error",
     "traceback": [
      "\u001b[0;36m  File \u001b[0;32m\"<ipython-input-40-8419cd714b9d>\"\u001b[0;36m, line \u001b[0;32m10\u001b[0m\n\u001b[0;31m    def __init__(self,ltree = 0,rtree = 0,data = 0):\u001b[0m\n\u001b[0m    ^\u001b[0m\n\u001b[0;31mIndentationError\u001b[0m\u001b[0;31m:\u001b[0m unexpected indent\n"
     ]
    }
   ],
   "source": [
    "'''\n",
    "树的构建：\n",
    "     5\n",
    "  6     7\n",
    "8         9\n",
    "'''\n",
    "\n",
    "class Tree():\n",
    "   '树的实现'\n",
    "    def __init__(self,ltree = 0,rtree = 0,data = 0):\n",
    "        self.ltree = ltree\n",
    "        self.rtree = rtree\n",
    "        self.data = data\n",
    "class BTree():\n",
    "    '二叉树的实现'\n",
    "    def __init__(self,base = 0):\n",
    "        self.base = base\n",
    "    def _Empty(self):\n",
    "        '是否为空树'\n",
    "        if self.base == 0:\n",
    "            return True\n",
    "        else:\n",
    "            return False\n",
    "    def qout(self,tree_base):\n",
    "        '前序遍历:根-左-右'\n",
    "        if tree_base == 0:\n",
    "            return\n",
    "        print tree_base.data\n",
    "        self.qout(tree_base.ltree)\n",
    "        self.qout(tree_base.rtree)\n",
    "    def mout(self,tree_base):\n",
    "        '中序遍历:左-根-右'\n",
    "        if tree_base == 0:\n",
    "            return\n",
    "        self.mout(tree_base.ltree)\n",
    "        print tree_base.data\n",
    "        self.mout(tree_base.rtree)\n",
    "    def hout(self,tree_base):\n",
    "        '后序遍历:左-右-根'\n",
    "        if tree_base == 0:\n",
    "            return\n",
    "        self.hout(tree_base.ltree)\n",
    "        self.hout(tree_base.rtree)\n",
    "        print tree_base.data\n",
    "#test\n",
    "\n",
    "tree1 = Tree(data=8)\n",
    "tree2 = Tree(data=9)\n",
    "tree3 = Tree(tree1,data=6)\n",
    "tree4 = Tree(tree2,0,data=7)\n",
    "base = Tree(tree3,tree4,5)\n",
    "btree = BTree(base)\n",
    "print '前序遍历结果:'\n",
    "btree.qout(btree.base)\n",
    "print '中序遍历结果:'\n",
    "btree.mout(btree.base)\n",
    "print '后序遍历结果:'\n",
    "btree.hout(btree.base)\n"
   ]
  },
  {
   "cell_type": "code",
   "execution_count": null,
   "metadata": {},
   "outputs": [],
   "source": []
  }
 ],
 "metadata": {
  "kernelspec": {
   "display_name": "Python 2",
   "language": "python",
   "name": "python2"
  },
  "language_info": {
   "codemirror_mode": {
    "name": "ipython",
    "version": 3
   },
   "file_extension": ".py",
   "mimetype": "text/x-python",
   "name": "python",
   "nbconvert_exporter": "python",
   "pygments_lexer": "ipython3",
   "version": "3.5.2"
  }
 },
 "nbformat": 4,
 "nbformat_minor": 2
}
